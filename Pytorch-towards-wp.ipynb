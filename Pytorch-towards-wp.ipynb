{
 "cells": [
  {
   "cell_type": "code",
   "execution_count": 1,
   "id": "73328075",
   "metadata": {},
   "outputs": [],
   "source": [
    "import numpy as np\n",
    "import torch\n",
    "import matplotlib.pyplot as plt\n",
    "from torch import nn\n",
    "from torch.functional import F\n",
    "from tqdm import tqdm\n",
    "import pandas as pd"
   ]
  },
  {
   "cell_type": "code",
   "execution_count": 2,
   "id": "34ed1889",
   "metadata": {},
   "outputs": [],
   "source": [
    "def scotts_factor(n):\n",
    "    \"\"\"Compute Scott's factor.\n",
    "    Returns\n",
    "    -------\n",
    "    s : float\n",
    "        Scott's factor.\n",
    "    \"\"\"\n",
    "    return np.power(n, -1./5)"
   ]
  },
  {
   "cell_type": "code",
   "execution_count": 3,
   "id": "8ac65519",
   "metadata": {},
   "outputs": [],
   "source": [
    "# Plot data distribution\n",
    "def plot_dist(data1, data2, col, ax=None):\n",
    "    if not ax:\n",
    "        _, ax = plt.subplots(1,1)\n",
    "        \n",
    "    ax.hist(data1[col], density=True, fill='black', histtype='stepfilled', \n",
    "             edgecolor='black', bins= 20, linewidth=1.2, label=data1.name)\n",
    "    ax.hist(data2[col], density=True, bins= 20, fill='blue', histtype='stepfilled',\n",
    "             edgecolor='blue', linewidth=1.2, label=data2.name, alpha=0.7)\n",
    "    ax.legend(loc='best')\n",
    "    ax.set_title(col)\n",
    "    return "
   ]
  },
  {
   "cell_type": "code",
   "execution_count": 4,
   "id": "b8159076",
   "metadata": {},
   "outputs": [],
   "source": [
    "import torch\n",
    "from torch.distributions import Normal\n",
    "from torch.distributions.distribution import Distribution\n",
    "\n",
    "class GaussianKDE(Distribution):\n",
    "    def __init__(self, X, bw, weights=None):\n",
    "        \"\"\"\n",
    "        X : tensor (n, d)\n",
    "          `n` points with `d` dimensions to which KDE will be fit\n",
    "        bw : numeric\n",
    "          bandwidth for Gaussian kernel\n",
    "        \"\"\"\n",
    "        self.X = X\n",
    "        self.bw = bw\n",
    "        self.n = X.shape[0]\n",
    "        self.mvn = Normal(loc=torch.zeros(1), scale=1)\n",
    "        \n",
    "        if weights is not None:\n",
    "            self.weights = weights/sum(weights)\n",
    "        else:\n",
    "            self.weights = (1/len(X))*torch.ones(len(X))\n",
    "        self.neff = 1/sum(self.weights**2)\n",
    "\n",
    "    def score_samples(self, Y, X=None):\n",
    "        \"\"\"Returns the kernel density estimates of each point in `Y`.\n",
    "\n",
    "        Parameters\n",
    "        ----------\n",
    "        Y : tensor (m, d)\n",
    "          `m` points with `d` dimensions for which the probability density will\n",
    "          be calculated\n",
    "        X : tensor (n, d), optional\n",
    "          `n` points with `d` dimensions to which KDE will be fit. Provided to\n",
    "          allow batch calculations in `log_prob`. By default, `X` is None and\n",
    "          all points used to initialize KernelDensityEstimator are included.\n",
    "\n",
    "\n",
    "        Returns\n",
    "        -------\n",
    "        probs : tensor (m)\n",
    "          probability densities for each of the queried points in `Y`\n",
    "        \"\"\"\n",
    "        if X == None:\n",
    "            X = self.X\n",
    "        \n",
    "        bw = self.bw\n",
    "        logprob = (self.mvn.log_prob((X.unsqueeze(1) - Y) / bw))\n",
    "        \n",
    "#         probs = ((1/bw) * torch.exp(logprob).sum(dim=0))/self.n\n",
    "        \n",
    "        # experiment\n",
    "        b = self.weights.repeat(Y.shape[0],1).T.unsqueeze(2)\n",
    "        w = (b * torch.exp(logprob))/sum(self.weights)\n",
    "        probs = (1/bw)* w.sum(dim=0)\n",
    "        \n",
    "        return probs\n",
    "    \n",
    "    __call__ = score_samples"
   ]
  },
  {
   "cell_type": "code",
   "execution_count": 13,
   "id": "3cb308b1",
   "metadata": {},
   "outputs": [],
   "source": [
    "class KDEoptim(nn.Module):\n",
    "    \"\"\"Custom Pytorch model for gradient optimization.\n",
    "    \"\"\"\n",
    "    def __init__(self, X, wp):\n",
    "        \n",
    "        super().__init__()\n",
    "        weights = torch.ones(X.shape[0], requires_grad=True)/len(X)  \n",
    "        self.weights = nn.Parameter(weights)\n",
    "        self.waypoints = wp\n",
    "        self.kde_target = GaussianKDE(X, bw=0.2)(wp)\n",
    "        \n",
    "    def forward(self, Y):\n",
    "        \"\"\"Implement function to be optimised. In this case, an exponential decay\n",
    "        function (a + exp(-k * X) + b),\n",
    "        \"\"\"\n",
    "        kde2_estimated = GaussianKDE(Y, bw=0.2, weights=self.weights)(self.waypoints)\n",
    "        return sum(torch.square(self.kde_target - kde2_estimated))\n",
    "    \n",
    "def training_loop(model, optimizer, n=50):\n",
    "    \"Training loop for torch model.\"\n",
    "    losses = []\n",
    "    for i in tqdm(range(n)):\n",
    "        preds = model(Y)\n",
    "        preds.backward()\n",
    "        optimizer.step()\n",
    "        optimizer.zero_grad()\n",
    "        losses.append(preds) \n",
    "        \n",
    "        with torch.no_grad():\n",
    "            for param in model.parameters():\n",
    "                param.clamp_(0, 100)\n",
    "    \n",
    "    return losses"
   ]
  },
  {
   "cell_type": "code",
   "execution_count": 14,
   "id": "cffec029",
   "metadata": {},
   "outputs": [],
   "source": [
    "waypoints = np.atleast_2d(np.array([9, 9.5, 10, 10.5, 11])).T\n",
    "\n",
    "torch.manual_seed(42)\n",
    "X = torch.normal(10, 1, size=(5000, 1))\n",
    "Y = torch.normal(14, 2.5, size=(5000, 1))\n",
    "\n",
    "Xdf = pd.DataFrame(X.numpy(), columns=['a'])\n",
    "Ydf = pd.DataFrame(Y.numpy(), columns=['b'])"
   ]
  },
  {
   "cell_type": "code",
   "execution_count": 15,
   "id": "b4e25132",
   "metadata": {},
   "outputs": [
    {
     "name": "stderr",
     "output_type": "stream",
     "text": [
      "100%|██████████████████████████████████████████████████████████████████████████████| 50/50 [00:09<00:00,  5.25it/s]\n"
     ]
    }
   ],
   "source": [
    "# instantiate model\n",
    "m = KDEoptim(X, waypoints)\n",
    "\n",
    "# Instantiate optimizer\n",
    "opt = torch.optim.Adam(m.parameters(), lr=0.001)\n",
    "losses = training_loop(m, opt)"
   ]
  },
  {
   "cell_type": "code",
   "execution_count": 16,
   "id": "76a3c45f",
   "metadata": {},
   "outputs": [],
   "source": [
    "optweights = m.weights.detach().numpy()"
   ]
  },
  {
   "cell_type": "code",
   "execution_count": 21,
   "id": "991893a7",
   "metadata": {},
   "outputs": [
    {
     "data": {
      "text/plain": [
       "<matplotlib.collections.LineCollection at 0x13a444c40>"
      ]
     },
     "execution_count": 21,
     "metadata": {},
     "output_type": "execute_result"
    },
    {
     "data": {
      "image/png": "[encoded data removed]",
      "text/plain": [
       "<Figure size 432x288 with 1 Axes>"
      ]
     },
     "metadata": {
      "needs_background": "light"
     },
     "output_type": "display_data"
    }
   ],
   "source": [
    "plt.hist(optweights, bins=len(X)//100)\n",
    "plt.vlines(x=1/len(X), ymin=0, ymax=4000, color='black', linestyles='dashed')"
   ]
  },
  {
   "cell_type": "code",
   "execution_count": 22,
   "id": "5cffe8b0",
   "metadata": {},
   "outputs": [],
   "source": [
    "Ydf_study = Ydf.sample(200, replace=True, weights=optweights, random_state=42)"
   ]
  },
  {
   "cell_type": "code",
   "execution_count": 23,
   "id": "56a18dcb",
   "metadata": {},
   "outputs": [
    {
     "data": {
      "text/plain": [
       "<matplotlib.legend.Legend at 0x13a5e3190>"
      ]
     },
     "execution_count": 23,
     "metadata": {},
     "output_type": "execute_result"
    },
    {
     "data": {
      "image/png": "[encoded data removed]",
      "text/plain": [
       "<Figure size 720x360 with 1 Axes>"
      ]
     },
     "metadata": {
      "needs_background": "light"
     },
     "output_type": "display_data"
    }
   ],
   "source": [
    "f, ax = plt.subplots(1,1, figsize=(10, 5))\n",
    "\n",
    "Xdf.hist(ax=ax, label='original study', density=True)\n",
    "Ydf.hist(ax=ax, label='original control', alpha=0.5, density=True)\n",
    "Ydf_study.hist(ax=ax, label='optimized control', alpha=0.5, density=True)\n",
    "\n",
    "plt.legend()"
   ]
  },
  {
   "cell_type": "code",
   "execution_count": null,
   "id": "53887fe3",
   "metadata": {},
   "outputs": [],
   "source": []
  }
 ],
 "metadata": {
  "kernelspec": {
   "display_name": "Python 3 (ipykernel)",
   "language": "python",
   "name": "python3"
  },
  "language_info": {
   "codemirror_mode": {
    "name": "ipython",
    "version": 3
   },
   "file_extension": ".py",
   "mimetype": "text/x-python",
   "name": "python",
   "nbconvert_exporter": "python",
   "pygments_lexer": "ipython3",
   "version": "3.9.9"
  }
 },
 "nbformat": 4,
 "nbformat_minor": 5
}
